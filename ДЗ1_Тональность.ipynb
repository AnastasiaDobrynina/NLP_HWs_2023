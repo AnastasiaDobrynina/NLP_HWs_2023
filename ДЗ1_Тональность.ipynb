{
 "cells": [
  {
   "cell_type": "markdown",
   "id": "351ae00f",
   "metadata": {},
   "source": [
    "# Домашнее задание №1\n",
    "Добрынина Анастасия, БКЛ-213"
   ]
  },
  {
   "cell_type": "code",
   "execution_count": 1,
   "id": "693fc145",
   "metadata": {},
   "outputs": [
    {
     "name": "stderr",
     "output_type": "stream",
     "text": [
      "C:\\Users\\79998\\anaconda3\\lib\\site-packages\\scipy\\__init__.py:146: UserWarning: A NumPy version >=1.16.5 and <1.23.0 is required for this version of SciPy (detected version 1.24.3\n",
      "  warnings.warn(f\"A NumPy version >={np_minversion} and <{np_maxversion}\"\n"
     ]
    }
   ],
   "source": [
    "from tqdm import tqdm\n",
    "import pymorphy2\n",
    "from nltk import word_tokenize\n",
    "from selenium.webdriver.common.action_chains import ActionChains\n",
    "from selenium.webdriver.common.by import By\n",
    "from selenium import webdriver\n",
    "from sklearn.metrics import accuracy_score\n",
    "from collections import Counter"
   ]
  },
  {
   "cell_type": "code",
   "execution_count": 2,
   "id": "c65ef01c",
   "metadata": {},
   "outputs": [],
   "source": [
    "morph = pymorphy2.MorphAnalyzer()"
   ]
  },
  {
   "cell_type": "markdown",
   "id": "1d1f47d6",
   "metadata": {},
   "source": [
    "## 1. Парсинг\n",
    "*Сначала нам надо скачать данные -- соберите как минимум 60 (30 положительных и 30 отрицательных) отзывов на похожие продукты (не надо мешать отзывы на отели с отзывами на ноутбуки) для составления \"тонального словаря\" (чем больше отзывов, тем лучше) и 10 отзывов для проверки качества. (2 балла в случае сбора путём парсинга, 1 - если найдете уже готовые данные или просто закопипастите без парсинга)*"
   ]
  },
  {
   "cell_type": "markdown",
   "id": "c6a4a0eb",
   "metadata": {},
   "source": [
    "Буду анализировать отзывы на онлайн кинотеатры с сайта [отзовик](https://otzovik.com/?&capt4a=4321694895366182). На выбранном сайте есть отзывы на 7 разных кинотеатров, возьмем поровну отзывов на каждый из них. Так как киноеатров немного, ссылки с отзывами на каждый будет удобней собрать руками.\n",
    "\n",
    "Один кинотеатр лучше оставить для теста. Так я точно могу быть уверенной, что определение тональности не переобучено на отзывы на конкретные кинотеатры, а может правильно определять тональность отзыва на любой киннотеатр"
   ]
  },
  {
   "cell_type": "code",
   "execution_count": 3,
   "id": "1e3eca15",
   "metadata": {},
   "outputs": [],
   "source": [
    "cinemas = ['https://otzovik.com/reviews/interaktivnoe_televidenie_wink_russia/',\n",
    "           'https://otzovik.com/reviews/ivi_ru-besplatniy_videoservis_s_licenzionnim_polnometrazhnim_kontentom/',\n",
    "           'https://otzovik.com/reviews/more_tv-onlayn_kinoteatr/',\n",
    "          'https://otzovik.com/reviews/tv-kanal_netflix/',\n",
    "          'https://otzovik.com/reviews/amediateka_ru-onlayn_kinoteatr/',\n",
    "           'https://otzovik.com/reviews/kinopoisk_ru-onlayn-kinoteatr/']\n",
    "cinemas_test = 'https://otzovik.com/reviews/okko_tv-onlayn_kinoteatr/'"
   ]
  },
  {
   "cell_type": "markdown",
   "id": "f3ad79b7",
   "metadata": {},
   "source": [
    "Напишем функцию, которая будет открывать отзывы и собирать нужный текст.\n",
    "- к текстам хороших отзывов будет относится основное содержнаие 5-звездочных отзвов\n",
    "- к текстам плохих отзывов соответсвенно будет относится основное содержание 1-звездочнных отзывов"
   ]
  },
  {
   "cell_type": "markdown",
   "id": "02afa08a",
   "metadata": {},
   "source": [
    "Собрать данные с помощью `requests` и `fake_useragent` не удалось, так как сайт обноруживал подозрительную активность. Ниже представлена функция, не реализованная из-за блокировки"
   ]
  },
  {
   "cell_type": "markdown",
   "id": "615178f0",
   "metadata": {},
   "source": [
    "```\n",
    "from bs4 import BeautifulSoup\n",
    "import requests\n",
    "from fake_useragent import UserAgent\n",
    "\n",
    "session = requests.session()\n",
    "ua = UserAgent(verify_ssl=False)\n",
    "```"
   ]
  },
  {
   "cell_type": "markdown",
   "id": "7ffcb2b5",
   "metadata": {},
   "source": [
    "```\n",
    "def get_review(url, n):\n",
    "    goods = set()\n",
    "    bads = set()\n",
    "    g_counter = 0\n",
    "    b_counter = 0\n",
    "    req = session.get(url, headers={'User-Agent': ua.random})\n",
    "    soup = BeautifulSoup(req.text, 'html.parser')\n",
    "    \n",
    "    reviews = soup.find_all('a', {'class': 'review-title'})\n",
    "    print(soup.title)\n",
    "    for i in reviews:\n",
    "        rev_link = i.get('href')\n",
    "        rev_req = session.get(f'https://otzovik.com/{rev_link}', headers={'User-Agent': ua.random})\n",
    "        rev_soup = BeautifulSoup(req.text, 'html.parser')\n",
    "        # проверка на количество звезд\n",
    "        stars = len(soup.find_all('div', {'class': 'product-rating tooltip-right'})[0].find_all('span', {'class': 'icons icon-star-1'}))\n",
    "        print(stars)\n",
    "        if stars == 5 and g_counter < n:\n",
    "            rev_text = rev_soup.find_all('div', {'class': 'review-body description'})\n",
    "            goods.add(rev_text[0].text)\n",
    "            g_counter += 1\n",
    "        elif stars == 1 and b_counter < n:\n",
    "            rev_text = rev_soup.find_all('div', {'class': 'review-body description'})\n",
    "            bads.add(rev_text[0].text)\n",
    "            b_counter += 1\n",
    "        \n",
    "        if b_counter == n and g_counter == n: return (goods, bads)\n",
    "        return (goods, bads)\n",
    "```"
   ]
  },
  {
   "cell_type": "markdown",
   "id": "eaac98be",
   "metadata": {},
   "source": [
    "### Selenium\n",
    "Я переписала функцию, используя вместо библиотеки `requests` веб-драйвер `Selenium`"
   ]
  },
  {
   "cell_type": "code",
   "execution_count": 4,
   "id": "d0db1614",
   "metadata": {},
   "outputs": [],
   "source": [
    "driver = webdriver.Chrome()"
   ]
  },
  {
   "cell_type": "code",
   "execution_count": 5,
   "id": "2ceb4505",
   "metadata": {},
   "outputs": [],
   "source": [
    "def get_reviews(url, n, page = 1): \n",
    "    reviews = {'good': set(), 'bad': set()}\n",
    "    url_good = url + str(page) + '/?ratio=5'\n",
    "    url_bad = url + str(page) + '?ratio=1'\n",
    "    \n",
    "    while len(reviews['good']) != n:\n",
    "        driver.get(url_good)\n",
    "        for i in range(0, 20):\n",
    "            button = driver.find_elements(By.CLASS_NAME, 'review-title') \n",
    "            ActionChains(driver).click(button[i]).perform() # открываем конкретный отзыв\n",
    "            try:\n",
    "                rev_text = driver.find_element(By.XPATH, \"//div[@class='review-body description']\").text\n",
    "                reviews['good'].add(rev_text)\n",
    "                driver.get(url_good)\n",
    "            except: driver.get(url_good)\n",
    "            #можно выйти из цикла раньше\n",
    "            if len(reviews['good']) == n: \n",
    "                break\n",
    "        # листаем, если не хватило страниц\n",
    "        page += 1\n",
    "        url_good = url + str(page) + '/?ratio=5'\n",
    "        \n",
    "    while len(reviews['bad']) != n:\n",
    "        driver.get(url_bad)\n",
    "        for i in range(0, 20):\n",
    "            button = driver.find_elements(By.CLASS_NAME, 'review-title') \n",
    "            ActionChains(driver).click(button[i]).perform() # открываем конкретный отзыв\n",
    "            try:\n",
    "                rev_text = driver.find_element(By.XPATH, \"//div[@class='review-body description']\").text\n",
    "                reviews['bad'].add(rev_text)\n",
    "                driver.get(url_bad)\n",
    "            except: driver.get(url_bad)\n",
    "            #можно выйти из цикла раньше\n",
    "            if len(reviews['bad']) == n: \n",
    "                break\n",
    "        # листаем, если не хватило страниц\n",
    "        url_bad = url + str(page) + '?ratio=1'\n",
    "        \n",
    "    return reviews"
   ]
  },
  {
   "cell_type": "code",
   "execution_count": 6,
   "id": "39d00051",
   "metadata": {},
   "outputs": [],
   "source": [
    "reviews_text = {'good': set(), 'bad': set()}"
   ]
  },
  {
   "cell_type": "code",
   "execution_count": 12,
   "id": "e59f126d",
   "metadata": {},
   "outputs": [],
   "source": [
    "driver = webdriver.Chrome()"
   ]
  },
  {
   "cell_type": "code",
   "execution_count": 8,
   "id": "12e4d917",
   "metadata": {},
   "outputs": [
    {
     "name": "stderr",
     "output_type": "stream",
     "text": [
      "100%|██████████| 6/6 [04:32<00:00, 45.38s/it]\n"
     ]
    }
   ],
   "source": [
    "for cin in tqdm(cinemas):\n",
    "    new_rev = get_reviews(cin, 7)\n",
    "    reviews_text['good'] = reviews_text['good'].union(new_rev['good'])\n",
    "    reviews_text['bad'] = reviews_text['bad'].union(new_rev['bad'])"
   ]
  },
  {
   "cell_type": "code",
   "execution_count": 9,
   "id": "04c49e06",
   "metadata": {},
   "outputs": [
    {
     "name": "stdout",
     "output_type": "stream",
     "text": [
      "42\n",
      "42\n"
     ]
    }
   ],
   "source": [
    "print(len(reviews_text['good']))\n",
    "print(len(reviews_text['bad']))"
   ]
  },
  {
   "cell_type": "markdown",
   "id": "cc7c6720",
   "metadata": {},
   "source": [
    "## 2-3. Токенизация и составление частотного словря\n",
    "*Токенизируйте слова, приведите их к нижнему регистру и к начальной форме (1 балл за токенизацию, 1 - за начальную форму)*\n",
    "\n",
    "*Составьте 2 множества - в одном будут слова, которые встречаются только в положительных отзывах, а в другом - встречающиеся только в отрицательных. Попробуйте поиграть с частотностями и исключить шум (к примеру, выбросить слова, встречающиеся 1-2 раза) (2 балла) (если у вас получились пустые множества, уберите фильтр по частотности или увеличьте выборку)*"
   ]
  },
  {
   "cell_type": "code",
   "execution_count": 10,
   "id": "123a7ccf",
   "metadata": {},
   "outputs": [],
   "source": [
    "# функция, которая токенизирует слова, приводит к нижнему регистру, начальной форме и сразу считает\n",
    "def preprocess_and_count(texts):\n",
    "    lemmas = Counter()\n",
    "    for text in texts:\n",
    "        for word in word_tokenize(text):\n",
    "            if word.isalpha():\n",
    "                word = morph.parse(word.lower())[0]\n",
    "                lemma = word.normal_form\n",
    "                lemmas.update(lemma.split())\n",
    "    return lemmas"
   ]
  },
  {
   "cell_type": "code",
   "execution_count": 11,
   "id": "b5cc26e1",
   "metadata": {},
   "outputs": [],
   "source": [
    "good_lemmas = preprocess_and_count(reviews_text['good'])"
   ]
  },
  {
   "cell_type": "code",
   "execution_count": 12,
   "id": "f333fdb1",
   "metadata": {
    "scrolled": true
   },
   "outputs": [
    {
     "name": "stdout",
     "output_type": "stream",
     "text": [
      "ничего\n",
      "не\n",
      "мочь\n",
      "сказать\n",
      "о\n",
      "это\n",
      "кинотеатр\n",
      "плохой\n",
      "поскольку\n",
      "я\n"
     ]
    }
   ],
   "source": [
    "# посмотрим, как выглядят\n",
    "for word, cont in zip(good_lemmas, range(0,10)):\n",
    "    print(word)"
   ]
  },
  {
   "cell_type": "code",
   "execution_count": 13,
   "id": "be0dd1ad",
   "metadata": {},
   "outputs": [],
   "source": [
    "bad_lemmas = preprocess_and_count(reviews_text['bad'])"
   ]
  },
  {
   "cell_type": "code",
   "execution_count": 14,
   "id": "6e55e199",
   "metadata": {
    "scrolled": true
   },
   "outputs": [
    {
     "name": "stdout",
     "output_type": "stream",
     "text": [
      "являться\n",
      "активный\n",
      "пользователь\n",
      "яндекс\n",
      "плюс\n",
      "и\n",
      "быть\n",
      "у\n",
      "они\n",
      "акция\n"
     ]
    }
   ],
   "source": [
    "# посмотрим, как выглядят\n",
    "for word, cont in zip(bad_lemmas, range(0,10)):\n",
    "    print(word)"
   ]
  },
  {
   "cell_type": "code",
   "execution_count": 15,
   "id": "a1ffbacf",
   "metadata": {},
   "outputs": [
    {
     "name": "stdout",
     "output_type": "stream",
     "text": [
      "1712\n",
      "1681\n"
     ]
    }
   ],
   "source": [
    "print(len(good_lemmas))\n",
    "print(len(bad_lemmas))"
   ]
  },
  {
   "cell_type": "code",
   "execution_count": 16,
   "id": "ad6edd85",
   "metadata": {},
   "outputs": [
    {
     "name": "stdout",
     "output_type": "stream",
     "text": [
      "756\n"
     ]
    }
   ],
   "source": [
    "# столько должно убраться из каждого словаря\n",
    "print(len(set(bad_lemmas).intersection(set(good_lemmas))))"
   ]
  },
  {
   "cell_type": "code",
   "execution_count": 17,
   "id": "b4d6f50d",
   "metadata": {},
   "outputs": [],
   "source": [
    "# убираем повторения\n",
    "good_lemmas_filtered = {}\n",
    "\n",
    "bad_lemmas = dict(bad_lemmas)\n",
    "good_lemmas = dict(good_lemmas)\n",
    "for key, value in good_lemmas.items():\n",
    "    if key in bad_lemmas:\n",
    "        del bad_lemmas[key]\n",
    "    else:\n",
    "        good_lemmas_filtered[key] = value\n",
    "        \n",
    "bad_lemmas_filtered = bad_lemmas"
   ]
  },
  {
   "cell_type": "code",
   "execution_count": 18,
   "id": "889f119c",
   "metadata": {},
   "outputs": [
    {
     "name": "stdout",
     "output_type": "stream",
     "text": [
      "плохой\n",
      "некотрый\n",
      "куртизанка\n",
      "взрослый\n",
      "мультсериал\n",
      "великий\n",
      "север\n",
      "эксклюзив\n",
      "безпринципный\n",
      "легко\n"
     ]
    }
   ],
   "source": [
    "for word, cont in zip(good_lemmas_filtered, range(0,10)):\n",
    "    print(word)"
   ]
  },
  {
   "cell_type": "code",
   "execution_count": 19,
   "id": "820e0d5b",
   "metadata": {},
   "outputs": [
    {
     "name": "stdout",
     "output_type": "stream",
     "text": [
      "активный\n",
      "подстава\n",
      "условие\n",
      "означать\n",
      "согласие\n",
      "будущее\n",
      "выпрыгивать\n",
      "медиатека\n",
      "отказаться\n",
      "ссылка\n"
     ]
    }
   ],
   "source": [
    "for word, cont in zip(bad_lemmas_filtered, range(0,10)):\n",
    "    print(word)"
   ]
  },
  {
   "cell_type": "code",
   "execution_count": 20,
   "id": "a75a35ee",
   "metadata": {},
   "outputs": [
    {
     "name": "stdout",
     "output_type": "stream",
     "text": [
      "956\n",
      "925\n"
     ]
    }
   ],
   "source": [
    "print(len(good_lemmas_filtered))\n",
    "print(len(bad_lemmas_filtered))"
   ]
  },
  {
   "cell_type": "code",
   "execution_count": 21,
   "id": "03823645",
   "metadata": {},
   "outputs": [],
   "source": [
    "# фильтр по частотности\n",
    "def get_freq_list(x, good_dict, bad_dict):\n",
    "    freq_list = {'good': {}, 'bad': {}}\n",
    "    for word, score in good_dict.items():\n",
    "        if score > x:\n",
    "            freq_list['good'][word] = score\n",
    "    for word, score in bad_dict.items():\n",
    "        if score > x:\n",
    "            freq_list['bad'][word] = score\n",
    "    return freq_list"
   ]
  },
  {
   "cell_type": "code",
   "execution_count": 22,
   "id": "60cb9e0e",
   "metadata": {},
   "outputs": [],
   "source": [
    "freq_list = get_freq_list(1, good_lemmas_filtered, bad_lemmas_filtered)"
   ]
  },
  {
   "cell_type": "code",
   "execution_count": 23,
   "id": "11bcaf66",
   "metadata": {},
   "outputs": [
    {
     "name": "stdout",
     "output_type": "stream",
     "text": [
      "239\n",
      "205\n"
     ]
    }
   ],
   "source": [
    "print(len(freq_list['good']))\n",
    "print(len(freq_list['bad']))"
   ]
  },
  {
   "cell_type": "markdown",
   "id": "8b1f0a53",
   "metadata": {},
   "source": [
    "## 4. Определение тональности\n",
    "*Создайте функцию, которая будет определять, положительный ли отзыв или отрицательный в зависимости от того, какие слова встретились в нём, и посчитайте качество при помощи accuracy (1 - за коректно работающую функцию, 1 - за подсчёт accuracy)*"
   ]
  },
  {
   "cell_type": "code",
   "execution_count": 24,
   "id": "f2cc9451",
   "metadata": {},
   "outputs": [],
   "source": [
    "def detect(freq_lists, text):\n",
    "    counts = Counter({'good': 0, 'bad': 0})\n",
    "    for word in text.split():\n",
    "        if word in freq_lists['good']:\n",
    "            counts['good'] += int(freq_lists['good'][word]) # добавляем сколько раз встречалось в отзвах этой тональности\n",
    "        elif word in freq_lists['bad']:\n",
    "            counts['bad'] += int(freq_lists['bad'][word])\n",
    "    return counts.most_common(1)[0][0]"
   ]
  },
  {
   "cell_type": "code",
   "execution_count": 26,
   "id": "bea54be1",
   "metadata": {
    "scrolled": true
   },
   "outputs": [],
   "source": [
    "# соберем тестовый сэмпл\n",
    "test_reviews = get_reviews(cinemas_test, 10)"
   ]
  },
  {
   "cell_type": "code",
   "execution_count": 27,
   "id": "4d5b33aa",
   "metadata": {},
   "outputs": [
    {
     "name": "stdout",
     "output_type": "stream",
     "text": [
      "10\n",
      "10\n"
     ]
    }
   ],
   "source": [
    "print(len(test_reviews['good']))\n",
    "print(len(test_reviews['bad']))"
   ]
  },
  {
   "cell_type": "code",
   "execution_count": 28,
   "id": "c839b40a",
   "metadata": {},
   "outputs": [],
   "source": [
    "# функция, которая только токенизирует слова, приводит к нижнему регистру, начальной форме\n",
    "def preprocess(texts):\n",
    "    lemmas = set()\n",
    "    for text in texts:\n",
    "        lemmas_txt = ''\n",
    "        for word in word_tokenize(text):\n",
    "            if word.isalpha():\n",
    "                word = morph.parse(word.lower())[0]\n",
    "                lemma = word.normal_form\n",
    "                lemmas_txt += lemma + \" \"\n",
    "        lemmas.add(lemmas_txt)\n",
    "    return lemmas"
   ]
  },
  {
   "cell_type": "code",
   "execution_count": 29,
   "id": "2a0dcbc1",
   "metadata": {},
   "outputs": [],
   "source": [
    "bad_lemmas_test = preprocess(test_reviews['bad'])\n",
    "good_lemmas_test = preprocess(test_reviews['good'])"
   ]
  },
  {
   "cell_type": "code",
   "execution_count": 33,
   "id": "47bd5822",
   "metadata": {},
   "outputs": [],
   "source": [
    "def test_detect(good_test, bad_test, freq_lists):\n",
    "    results = []  # сюда будем писать результаты\n",
    "    gold = []     # сюда будем писать исходный язык\n",
    "    for review in good_test:\n",
    "        predicted_mood = detect(freq_lists, review)\n",
    "        results.append(predicted_mood)\n",
    "        gold.append('good')\n",
    "    for review in bad_test:\n",
    "        predicted_mood = detect(freq_lists, review)\n",
    "        results.append(predicted_mood)\n",
    "        gold.append('bad')\n",
    "    print(\"Accuracy:\", accuracy_score(results, gold))"
   ]
  },
  {
   "cell_type": "code",
   "execution_count": 34,
   "id": "b8244bcb",
   "metadata": {},
   "outputs": [
    {
     "name": "stdout",
     "output_type": "stream",
     "text": [
      "Accuracy: 0.7\n"
     ]
    }
   ],
   "source": [
    "test_detect(good_lemmas_test, bad_lemmas_test, freq_list)"
   ]
  },
  {
   "cell_type": "markdown",
   "id": "f4de8db5",
   "metadata": {},
   "source": [
    "## 5. Улучшения\n",
    "*Предложите как минимум 2 способа улучшить этот алгоритм определения тональности отзыва (1 балл за описание и реализацию каждого способа; если 2 способа описаны только текстом, это 1 балл. За третий и последующие способы дополнительных баллов не будет)*"
   ]
  },
  {
   "cell_type": "markdown",
   "id": "60ee3966",
   "metadata": {},
   "source": [
    "1. при определении тональности учитывать не просто вхождение слова, но и его \"вес\", то есть частотность в отзывах той или иной тональности (уже есть в коде)\n",
    "2. брать не только содержание, но и \"достоинства\", \"недостатки\" (если брать только эти разделы, то будет очень мало материала, поэтому можно объединить с исходным). Как правило, даже в положительных отзывах указыают недостатки, поэтому преимущество такого метода в том, что можно не фильтровать отзывы по количеству звезд, а брать все подряд"
   ]
  },
  {
   "cell_type": "code",
   "execution_count": 36,
   "id": "a0c8905d",
   "metadata": {},
   "outputs": [],
   "source": [
    "def get_pros_n_cons(url, n, page = 1): \n",
    "    reviews = {'pros': set(), 'cons': set()}\n",
    "    url = url + str(page) + '/'\n",
    "    driver.get(url)\n",
    "    \n",
    "    for i in range(0, n):\n",
    "        button = driver.find_elements(By.CLASS_NAME, 'review-title') \n",
    "        ActionChains(driver).click(button[i]).perform() # открываем конкретный отзыв\n",
    "        pros = driver.find_element(By.XPATH, \"//div[@class='review-plus']\").text\n",
    "        reviews['pros'].add(pros)\n",
    "        cons = driver.find_element(By.XPATH, \"//div[@class='review-minus']\").text\n",
    "        reviews['cons'].add(cons)\n",
    "        driver.get(url)\n",
    "    \n",
    "    return reviews"
   ]
  },
  {
   "cell_type": "code",
   "execution_count": 55,
   "id": "533aa52d",
   "metadata": {},
   "outputs": [],
   "source": [
    "pros_n_cons = {'pros': set(), 'cons': set()}"
   ]
  },
  {
   "cell_type": "code",
   "execution_count": 53,
   "id": "adca0012",
   "metadata": {},
   "outputs": [],
   "source": [
    "driver = webdriver.Chrome()"
   ]
  },
  {
   "cell_type": "code",
   "execution_count": 56,
   "id": "d944a540",
   "metadata": {},
   "outputs": [
    {
     "name": "stderr",
     "output_type": "stream",
     "text": [
      "100%|██████████| 6/6 [05:53<00:00, 58.92s/it]\n"
     ]
    }
   ],
   "source": [
    "for cin in tqdm(cinemas):\n",
    "    new_pc = get_pros_n_cons(cin, 20)\n",
    "    pros_n_cons['pros'] = pros_n_cons['pros'].union(new_pc['pros'])\n",
    "    pros_n_cons['cons'] = pros_n_cons['cons'].union(new_pc['cons'])"
   ]
  },
  {
   "cell_type": "code",
   "execution_count": 57,
   "id": "46771555",
   "metadata": {},
   "outputs": [
    {
     "name": "stdout",
     "output_type": "stream",
     "text": [
      "Хороший выбор фильмов, не виснет, всегда доступен.\n",
      "Удобно использовать в любом месте\n",
      "Не хуже прочих, оригинальный контент от Netflix\n",
      "Есть неплохие фильмы\n",
      "Их очень мало, а может это и вовсе не плюсы\n",
      "Просмотр доступен на любом устройстве. Большой выбор от сериалов до фильмов\n",
      "✅Хорошее качество изображения. ✅Возможность одновременно смотреть на 6 устройствах. ✅Функция управления просмотром (рекламу долой). ✅Возможность аренды оборудования.\n",
      "Фильмы и сериалы без рекламы\n",
      "Много фильмов, которых нет в свободном доступе\n",
      "На фоне конкурентов их нет\n"
     ]
    }
   ],
   "source": [
    "for word, cont in zip(pros_n_cons['pros'], range(0,10)):\n",
    "    print(word)"
   ]
  },
  {
   "cell_type": "code",
   "execution_count": 58,
   "id": "861265c0",
   "metadata": {},
   "outputs": [
    {
     "name": "stdout",
     "output_type": "stream",
     "text": [
      "Есть платная подписка\n",
      "Делаем выводы\n",
      "списание средств за продление при фактически отключенной подписке\n",
      "Дерьмо\n",
      "платный контент с завышенной ценой, но кто им пользуется?!\n",
      "Одни минусы\n",
      "Меняют озвучку с хорошей, на ужасную\n",
      "Привязка к карте, часть фильмов отдельно платные\n",
      "Нету\n",
      "не активируют промо-коды\n"
     ]
    }
   ],
   "source": [
    "for word, cont in zip(pros_n_cons['cons'], range(0,10)):\n",
    "    print(word)"
   ]
  },
  {
   "cell_type": "code",
   "execution_count": 59,
   "id": "a2acd0a3",
   "metadata": {},
   "outputs": [],
   "source": [
    "pros_lemmas = preprocess_and_count(pros_n_cons['pros'])"
   ]
  },
  {
   "cell_type": "code",
   "execution_count": 60,
   "id": "248df0eb",
   "metadata": {},
   "outputs": [],
   "source": [
    "cons_lemmas = preprocess_and_count(pros_n_cons['cons'])"
   ]
  },
  {
   "cell_type": "code",
   "execution_count": 61,
   "id": "0590faec",
   "metadata": {},
   "outputs": [],
   "source": [
    "# убираем повторения\n",
    "pros_filtered = {}\n",
    "\n",
    "cons_lemmas = dict(cons_lemmas)\n",
    "pros_lemmas = dict(pros_lemmas)\n",
    "for key, value in pros_lemmas.items():\n",
    "    if key in cons_lemmas:\n",
    "        del cons_lemmas[key]\n",
    "    else:\n",
    "        pros_filtered[key] = value\n",
    "        \n",
    "cons_filtered = cons_lemmas"
   ]
  },
  {
   "cell_type": "code",
   "execution_count": 62,
   "id": "df40b11f",
   "metadata": {},
   "outputs": [],
   "source": [
    "pros_cons_freq = get_freq_list(1, pros_lemmas, cons_lemmas)"
   ]
  },
  {
   "cell_type": "code",
   "execution_count": 63,
   "id": "a0e96467",
   "metadata": {},
   "outputs": [
    {
     "name": "stdout",
     "output_type": "stream",
     "text": [
      "Accuracy: 0.5\n"
     ]
    }
   ],
   "source": [
    "# проверяем точность с просто плюсами и минусами\n",
    "test_detect(good_lemmas_test, bad_lemmas_test, pros_cons_freq)"
   ]
  },
  {
   "cell_type": "markdown",
   "id": "fdcd31a6",
   "metadata": {},
   "source": [
    "Вообще не работает. Может, этот список поможет улучшить изначальные данные"
   ]
  },
  {
   "cell_type": "code",
   "execution_count": 64,
   "id": "ae61ba3e",
   "metadata": {},
   "outputs": [],
   "source": [
    "pros_cons_freq.update(freq_list)"
   ]
  },
  {
   "cell_type": "code",
   "execution_count": 65,
   "id": "a4b3bce1",
   "metadata": {},
   "outputs": [
    {
     "name": "stdout",
     "output_type": "stream",
     "text": [
      "Accuracy: 0.7\n"
     ]
    }
   ],
   "source": [
    "# проверяем точность на всем\n",
    "test_detect(good_lemmas_test, bad_lemmas_test, pros_cons_freq)"
   ]
  },
  {
   "cell_type": "markdown",
   "id": "4b5fe72a",
   "metadata": {},
   "source": [
    "Возможно, результат станет лучше, если взять больше плюсов и минусов. В любом случае, это один из способов добыть больше материала той или иной тональности"
   ]
  }
 ],
 "metadata": {
  "kernelspec": {
   "display_name": "Python 3 (ipykernel)",
   "language": "python",
   "name": "python3"
  },
  "language_info": {
   "codemirror_mode": {
    "name": "ipython",
    "version": 3
   },
   "file_extension": ".py",
   "mimetype": "text/x-python",
   "name": "python",
   "nbconvert_exporter": "python",
   "pygments_lexer": "ipython3",
   "version": "3.9.12"
  }
 },
 "nbformat": 4,
 "nbformat_minor": 5
}
